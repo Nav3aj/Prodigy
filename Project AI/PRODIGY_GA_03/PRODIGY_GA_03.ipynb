{
 "cells": [
  {
   "cell_type": "markdown",
   "id": "05510cf0",
   "metadata": {},
   "source": [
    "# Task-03: Text Generation with Markov Chains\n"
   ]
  },
  {
   "cell_type": "markdown",
   "id": "4f867cdd",
   "metadata": {},
   "source": [
    "Prepare the Corpus"
   ]
  },
  {
   "cell_type": "code",
   "execution_count": null,
   "id": "f159b3eb",
   "metadata": {},
   "outputs": [],
   "source": [
    "!head -n 20 sample.txt"
   ]
  },
  {
   "cell_type": "markdown",
   "id": "ccd99c53",
   "metadata": {},
   "source": [
    "Build the Markov Model\n",
    "\n",
    "Import the build function and construct the chains."
   ]
  },
  {
   "cell_type": "code",
   "execution_count": null,
   "id": "be903225",
   "metadata": {},
   "outputs": [],
   "source": [
    "from generate_markov import build_markov\n",
    "# Use order=2 by default\n",
    "chains = build_markov(open('sample.txt', encoding='utf-8').read(), order=2)\n",
    "# Inspect a few keys\n",
    "list(chains.items())[:5]"
   ]
  },
  {
   "cell_type": "markdown",
   "id": "94b47493",
   "metadata": {},
   "source": [
    " Generate Sample Text\n",
    " \n",
    "Use the generate_text function to produce new text sequences."
   ]
  },
  {
   "cell_type": "code",
   "execution_count": null,
   "id": "f76a5df2",
   "metadata": {},
   "outputs": [],
   "source": [
    "from generate_markov import generate_text\n",
    "# Generate 100 words\n",
    "output = generate_text(chains, order=2, length=100)\n",
    "print(output)"
   ]
  },
  {
   "cell_type": "markdown",
   "id": "7b20d0d9",
   "metadata": {},
   "source": [
    " Experiment with Order and Length\n",
    " \n",
    "Try different orders or lengths to see how the text coherence changes."
   ]
  },
  {
   "cell_type": "code",
   "execution_count": null,
   "id": "d4b5baee",
   "metadata": {},
   "outputs": [],
   "source": [
    "# Higher order (3) yields more coherent but less novel text\n",
    "chains3 = build_markov(open('sample.txt', encoding='utf-8').read(), order=3)\n",
    "print(generate_text(chains3, order=3, length=100))"
   ]
  },
  {
   "cell_type": "markdown",
   "id": "0d7b7710",
   "metadata": {},
   "source": [
    " Command-Line Usage\n",
    "\n",
    "You can run the script directly:"
   ]
  },
  {
   "cell_type": "code",
   "execution_count": null,
   "id": "c1de6684",
   "metadata": {},
   "outputs": [],
   "source": [
    "!python generate_markov.py --input sample.txt --order 2 --length 50"
   ]
  },
  {
   "cell_type": "markdown",
   "id": "e99e4709",
   "metadata": {},
   "source": [
    "Created by Navraj Amgai\n"
   ]
  }
 ],
 "metadata": {
  "language_info": {
   "name": "python"
  }
 },
 "nbformat": 4,
 "nbformat_minor": 5
}
