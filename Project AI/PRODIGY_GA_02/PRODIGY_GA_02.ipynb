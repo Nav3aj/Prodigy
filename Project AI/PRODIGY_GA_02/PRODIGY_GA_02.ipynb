{
 "cells": [
  {
   "cell_type": "markdown",
   "id": "4ad7854b",
   "metadata": {},
   "source": [
    "# Task-02: Image Generation with Pre-trained Models\n",
    "**Instruction**: Step-by-step demo in Colab/Jupyter."
   ]
  },
  {
   "cell_type": "markdown",
   "id": "17a4ad41",
   "metadata": {},
   "source": [
    "Environment Check"
   ]
  },
  {
   "cell_type": "code",
   "execution_count": null,
   "id": "70153b90",
   "metadata": {},
   "outputs": [],
   "source": [
    "import importlib\n",
    "missing = [lib for lib in (\"diffusers\",\"transformers\",\"torch\") \n",
    "           if importlib.util.find_spec(lib) is None]\n",
    "print(\"Missing:\", missing if missing else \"All set!\")"
   ]
  },
  {
   "cell_type": "markdown",
   "id": "794ba123",
   "metadata": {},
   "source": [
    " Imports & Pipeline Init"
   ]
  },
  {
   "cell_type": "code",
   "execution_count": null,
   "id": "5ad1731d",
   "metadata": {},
   "outputs": [],
   "source": [
    "from diffusers import StableDiffusionPipeline\n",
    "import torch\n",
    "\n",
    "pipe = StableDiffusionPipeline.from_pretrained(\n",
    "    \"runwayml/stable-diffusion-v1-5\",\n",
    "    torch_dtype=torch.float16\n",
    ").to(\"cuda\")"
   ]
  },
  {
   "cell_type": "markdown",
   "id": "db169df9",
   "metadata": {},
   "source": [
    " Run Generation"
   ]
  },
  {
   "cell_type": "code",
   "execution_count": null,
   "id": "bb7b1540",
   "metadata": {},
   "outputs": [],
   "source": [
    "prompt = \"A serene mountain lake at sunrise\"\n",
    "image = pipe(prompt).images[0]\n",
    "from IPython.display import display\n",
    "display(image)"
   ]
  },
  {
   "cell_type": "markdown",
   "id": "86735d18",
   "metadata": {},
   "source": [
    " Save Output"
   ]
  },
  {
   "cell_type": "code",
   "execution_count": null,
   "id": "0e07edcc",
   "metadata": {},
   "outputs": [],
   "source": [
    "image.save(\"outputs/lake.png\")\n",
    "print(\"Saved to outputs/lake.png\")"
   ]
  },
  {
   "cell_type": "markdown",
   "id": "cea97a3c",
   "metadata": {},
   "source": [
    "Created by Navraj Amgai\n"
   ]
  }
 ],
 "metadata": {
  "language_info": {
   "name": "python"
  }
 },
 "nbformat": 4,
 "nbformat_minor": 5
}
