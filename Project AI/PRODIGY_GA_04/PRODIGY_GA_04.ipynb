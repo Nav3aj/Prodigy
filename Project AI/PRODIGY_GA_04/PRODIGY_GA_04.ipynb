{
 "cells": [
  {
   "cell_type": "markdown",
   "id": "6a92ecbf",
   "metadata": {},
   "source": [
    "# Task-04: Image-to-Image Translation with cGAN\n",
    "**Instruction**: Use Pix2Pix cGAN in TensorFlow"
   ]
  },
  {
   "cell_type": "markdown",
   "id": "ca2bba72",
   "metadata": {},
   "source": [
    "##  Imports"
   ]
  },
  {
   "cell_type": "code",
   "execution_count": null,
   "id": "8667d362",
   "metadata": {},
   "outputs": [],
   "source": [
    "import tensorflow as tf\n",
    "from tensorflow_examples.models.pix2pix import pix2pix\n",
    "import matplotlib.pyplot as plt"
   ]
  },
  {
   "cell_type": "markdown",
   "id": "0d759a6e",
   "metadata": {},
   "source": [
    "## Load Dataset"
   ]
  },
  {
   "cell_type": "code",
   "execution_count": null,
   "id": "b8f77d8d",
   "metadata": {},
   "outputs": [],
   "source": [
    "# Using MNIST as placeholder for paired images\n",
    "(train_images, _), (_, _) = tf.keras.datasets.mnist.load_data()\n",
    "input_img = train_images[:1]\n",
    "input_img = tf.image.grayscale_to_rgb(tf.expand_dims(input_img, -1))\n"
   ]
  },
  {
   "cell_type": "markdown",
   "id": "a4c0f065",
   "metadata": {},
   "source": [
    "##  Build Generator & Discriminator"
   ]
  },
  {
   "cell_type": "code",
   "execution_count": null,
   "id": "fafe2d14",
   "metadata": {},
   "outputs": [],
   "source": [
    "gen = pix2pix.unet_generator(3, norm_type='instancenorm')\n",
    "disc = pix2pix.discriminator()\n"
   ]
  },
  {
   "cell_type": "markdown",
   "id": "ada82dcf",
   "metadata": {},
   "source": [
    "##  Forward Pass Example"
   ]
  },
  {
   "cell_type": "code",
   "execution_count": null,
   "id": "d155bfb2",
   "metadata": {},
   "outputs": [],
   "source": [
    "# Generate fake output\n",
    "fake = gen(input_img, training=False)\n",
    "# Discriminator on real and fake\n",
    "disc_real = disc([input_img, input_img], training=False)\n",
    "disc_fake = disc([input_img, fake], training=False)\n",
    "print('Real logit:', disc_real.numpy(), '\\nFake logit:', disc_fake.numpy())\n"
   ]
  },
  {
   "cell_type": "markdown",
   "id": "c1c83229",
   "metadata": {},
   "source": [
    "## Display example"
   ]
  },
  {
   "cell_type": "code",
   "execution_count": null,
   "id": "691eff74",
   "metadata": {},
   "outputs": [],
   "source": [
    "plt.figure(figsize=(4,4))\n",
    "plt.subplot(1,2,1); plt.title('Input'); plt.imshow(input_img[0]); plt.axis('off')\n",
    "plt.subplot(1,2,2); plt.title('Output'); plt.imshow(tf.clip_by_value(fake[0], 0, 1)); plt.axis('off')\n"
   ]
  },
  {
   "cell_type": "markdown",
   "id": "46f970f4",
   "metadata": {},
   "source": [
    "Created by Navraj Amgai"
   ]
  }
 ],
 "metadata": {
  "language_info": {
   "name": "python"
  }
 },
 "nbformat": 4,
 "nbformat_minor": 5
}
